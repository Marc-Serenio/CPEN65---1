{
  "nbformat": 4,
  "nbformat_minor": 0,
  "metadata": {
    "colab": {
      "provenance": [],
      "authorship_tag": "ABX9TyPZchdCaFdyYnkXHtj9qQWB",
      "include_colab_link": true
    },
    "kernelspec": {
      "name": "python3",
      "display_name": "Python 3"
    },
    "language_info": {
      "name": "python"
    }
  },
  "cells": [
    {
      "cell_type": "markdown",
      "metadata": {
        "id": "view-in-github",
        "colab_type": "text"
      },
      "source": [
        "<a href=\"https://colab.research.google.com/github/Marc-Serenio/CPEN65---1/blob/main/Array_Reverse_Name_Act_3.ipynb\" target=\"_parent\"><img src=\"https://colab.research.google.com/assets/colab-badge.svg\" alt=\"Open In Colab\"/></a>"
      ]
    },
    {
      "cell_type": "code",
      "execution_count": 5,
      "metadata": {
        "id": "bc05VzP5WnOK",
        "colab": {
          "base_uri": "https://localhost:8080/"
        },
        "outputId": "5ca919b0-e088-454d-f9ea-9438b9035348"
      },
      "outputs": [
        {
          "output_type": "stream",
          "name": "stdout",
          "text": [
            "['O', 'I', 'N', 'E', 'R', 'E', 'S', 'D.', 'Y', 'A', 'J', 'C', 'R', 'A', 'M']\n"
          ]
        }
      ],
      "source": [
        "#Create a python program that use Array\n",
        "#Insert each character of your Full Name and displays each character of your Full Name in reverse order\n",
        "\n",
        "array_name = [\"M\",\"A\",\"R\",\"C\",  \"J\",\"A\",\"Y\",  \"D.\",  \"S\",\"E\",\"R\",\"E\",\"N\",\"I\",\"O\"]\n",
        "array_name.reverse()\n",
        "print(array_name)\n"
      ]
    }
  ]
}