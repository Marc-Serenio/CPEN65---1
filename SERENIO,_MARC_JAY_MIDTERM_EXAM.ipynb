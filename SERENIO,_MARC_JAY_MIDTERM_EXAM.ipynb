{
  "nbformat": 4,
  "nbformat_minor": 0,
  "metadata": {
    "colab": {
      "provenance": [],
      "authorship_tag": "ABX9TyPmYeVEKxL5WTeqBGaXz56p",
      "include_colab_link": true
    },
    "kernelspec": {
      "name": "python3",
      "display_name": "Python 3"
    },
    "language_info": {
      "name": "python"
    }
  },
  "cells": [
    {
      "cell_type": "markdown",
      "metadata": {
        "id": "view-in-github",
        "colab_type": "text"
      },
      "source": [
        "<a href=\"https://colab.research.google.com/github/Marc-Serenio/CPEN65---1/blob/main/SERENIO%2C_MARC_JAY_MIDTERM_EXAM.ipynb\" target=\"_parent\"><img src=\"https://colab.research.google.com/assets/colab-badge.svg\" alt=\"Open In Colab\"/></a>"
      ]
    },
    {
      "cell_type": "markdown",
      "source": [
        "1. Write a Python program to create an array of 10 integers and display the array\n",
        "items. Access individual elements through indexes and compute for the sum."
      ],
      "metadata": {
        "id": "U4cYBTOVHYZ_"
      }
    },
    {
      "cell_type": "code",
      "execution_count": 1,
      "metadata": {
        "colab": {
          "base_uri": "https://localhost:8080/"
        },
        "id": "72FHef9mGFC3",
        "outputId": "736f81eb-036b-41c7-ebb8-be0f449e5329"
      },
      "outputs": [
        {
          "output_type": "stream",
          "name": "stdout",
          "text": [
            "list of an aaray:  [1, 2, 3, 4, 5, 6, 7, 8, 9, 10]\n",
            "0 1\n",
            "1 2\n",
            "2 3\n",
            "3 4\n",
            "4 5\n",
            "5 6\n",
            "6 7\n",
            "7 8\n",
            "8 9\n",
            "9 10\n",
            "Sum of all the elements of an array:55\n"
          ]
        }
      ],
      "source": [
        "sum = 0\n",
        "list = [1,2,3,4,5,6,7,8,9,10]\n",
        "print(\"list of an aaray: \",list)\n",
        "for index, val in enumerate(list):\n",
        "  print(index,val)\n",
        "\n",
        "#sum of list array\n",
        "for i in range(0,len(list)):\n",
        "  sum=sum + int(list[i]);\n",
        "\n",
        "print(\"Sum of all the elements of an array:\" + str(sum))"
      ]
    },
    {
      "cell_type": "markdown",
      "source": [
        "2. Write a Python program to append a new item to the end of the array. Original\n",
        "array: numbers = [1, 2, 3, 4, 5, 6, 7, 8, 9, 10]"
      ],
      "metadata": {
        "id": "UueUmooHHdvX"
      }
    },
    {
      "cell_type": "code",
      "source": [
        "numbers = [1,2,3,4,5,6,7,8,9,10]\n",
        "print(\"Original Array: \", numbers)\n",
        "numbers.append(11)\n",
        "print(\"\\nNew Array: \", numbers)"
      ],
      "metadata": {
        "colab": {
          "base_uri": "https://localhost:8080/"
        },
        "id": "RQKi8xEEHggc",
        "outputId": "16c472cb-fa31-4b50-f801-ab60beb48d90"
      },
      "execution_count": 4,
      "outputs": [
        {
          "output_type": "stream",
          "name": "stdout",
          "text": [
            "Original Array:  [1, 2, 3, 4, 5, 6, 7, 8, 9, 10]\n",
            "\n",
            "New Array:  [1, 2, 3, 4, 5, 6, 7, 8, 9, 10, 11]\n"
          ]
        }
      ]
    },
    {
      "cell_type": "markdown",
      "source": [
        "3. Write a Python program to insert a new item before the last element in an\n",
        "existing array. Original array: numbers = [1, 2, 3, 4, 5, 6, 7, 8, 9, 10]"
      ],
      "metadata": {
        "id": "d1uvXmfCI4K3"
      }
    },
    {
      "cell_type": "code",
      "source": [
        "from array import *\n",
        "array_num = array('i',[1,2,3,4,5,6,7,8,9,10])\n",
        "print(\"Original array: \"+str(array_num))\n",
        "print(\"Insert new value 11 before 10:\")\n",
        "array_num.insert(9, 11)\n",
        "print(\"New array: \"+str(array_num))"
      ],
      "metadata": {
        "colab": {
          "base_uri": "https://localhost:8080/"
        },
        "id": "MxSQyO4iI7Ro",
        "outputId": "fbab430e-e993-498d-8f28-91be47841362"
      },
      "execution_count": 9,
      "outputs": [
        {
          "output_type": "stream",
          "name": "stdout",
          "text": [
            "Original array: array('i', [1, 2, 3, 4, 5, 6, 7, 8, 9, 10])\n",
            "Insert new value 11 before 10:\n",
            "New array: array('i', [1, 2, 3, 4, 5, 6, 7, 8, 9, 11, 10])\n"
          ]
        }
      ]
    },
    {
      "cell_type": "markdown",
      "source": [
        "4. Write a Python program to reverse the order of the items in the array. Original\n",
        "array: numbers = [1, 2, 3, 4, 5]"
      ],
      "metadata": {
        "id": "YjBKlBUAJBSq"
      }
    },
    {
      "cell_type": "code",
      "source": [
        "numbers = [1,2,3,4,5]\n",
        "print(\"Original Array: \", numbers)\n",
        "numbers.reverse()\n",
        "print(\"\\nNew Order: \",numbers)"
      ],
      "metadata": {
        "colab": {
          "base_uri": "https://localhost:8080/"
        },
        "id": "n387JdZUJEfy",
        "outputId": "a663306f-d963-4a3d-9e82-aba6f800655f"
      },
      "execution_count": 5,
      "outputs": [
        {
          "output_type": "stream",
          "name": "stdout",
          "text": [
            "Original Array:  [1, 2, 3, 4, 5]\n",
            "\n",
            "New Order:  [5, 4, 3, 2, 1]\n"
          ]
        }
      ]
    },
    {
      "cell_type": "markdown",
      "source": [
        "5. Let A be an array of size n ≥ 2 containing integers from 1 to n−1, inclusive, with\n",
        "exactly one repeated. Create an algorithm for finding the integer in A that is\n",
        "repeated."
      ],
      "metadata": {
        "id": "7-Q1hrWYJ_h6"
      }
    },
    {
      "cell_type": "code",
      "source": [
        "from array import*                                            #Algorithm:\n",
        "arr = array('i',[1,2,3,2])                                    #Step 1: declare the array with size ≥ 2\n",
        "arr2 =[]                                                      #Step 2: Make an empty list\n",
        "\n",
        "for i in arr:                                                 #Step 3: Use the for loop to iterate over the Array one by one.\n",
        "  if i not in arr2:                                           #Step 4: Make if-else conditions after looping to locate the duplicate number.\n",
        "    arr2.append(i)                                            #Step 5: If the code satisfies the requirements, print the results (duplicated number)\n",
        "  else:\n",
        "    print(f'You are my Destiny: {i}')"
      ],
      "metadata": {
        "colab": {
          "base_uri": "https://localhost:8080/"
        },
        "id": "KBELrhDcKEMS",
        "outputId": "86852aa0-6770-4533-d0bd-1462ab0e6331"
      },
      "execution_count": 17,
      "outputs": [
        {
          "output_type": "stream",
          "name": "stdout",
          "text": [
            "You are my Destiny: 2\n"
          ]
        }
      ]
    }
  ]
}