{
  "cells": [
    {
      "cell_type": "markdown",
      "metadata": {
        "id": "view-in-github",
        "colab_type": "text"
      },
      "source": [
        "<a href=\"https://colab.research.google.com/github/Marc-Serenio/CPEN65---1/blob/main/Stack_and_Queues.ipynb\" target=\"_parent\"><img src=\"https://colab.research.google.com/assets/colab-badge.svg\" alt=\"Open In Colab\"/></a>"
      ]
    },
    {
      "cell_type": "code",
      "execution_count": 22,
      "metadata": {
        "colab": {
          "base_uri": "https://localhost:8080/"
        },
        "id": "LB2v4M2gaNVJ",
        "outputId": "9be4bb2a-33e8-4767-88d6-5577d40f7301"
      },
      "outputs": [
        {
          "output_type": "stream",
          "name": "stdout",
          "text": [
            "['A', 'B', 'C']\n",
            "['A']\n"
          ]
        }
      ],
      "source": [
        "class Stack:                    \n",
        "  def __init__(self):\n",
        "    self.stack = []             #stack implementation using OOP concept\n",
        "\n",
        "  def push(self,dataval):\n",
        "    if dataval not in self.stack:\n",
        "      return self.stack.append(dataval)\n",
        "    else:\n",
        "      return False\n",
        "  def pop(self):\n",
        "    if len(self.stack)<=0:\n",
        "      return (\"No element in the stack\")\n",
        "    else:\n",
        "      return self.stack.pop()\n",
        "\n",
        "AStack =Stack()\n",
        "AStack.push(\"A\")\n",
        "AStack.push(\"B\")\n",
        "AStack.push(\"C\")\n",
        "print(AStack.stack)\n",
        "AStack.pop()\n",
        "AStack.pop()\n",
        "\n",
        "print(AStack.stack)\n",
        "\n"
      ]
    },
    {
      "cell_type": "code",
      "source": [
        "#Application 1\n",
        "\n",
        "#Implentation the above program by Queues Data Structure (enqueue and dequeue / FIFO principle)"
      ],
      "metadata": {
        "id": "uMB88eLSh2k4"
      },
      "execution_count": null,
      "outputs": []
    },
    {
      "cell_type": "code",
      "source": [
        "Array = [1,2,3]\n",
        "\n",
        "Array.pop()\n",
        "\n",
        "print(Array)"
      ],
      "metadata": {
        "colab": {
          "base_uri": "https://localhost:8080/"
        },
        "id": "vnwaCi-piZE_",
        "outputId": "811dd9b4-09a0-4f44-cdce-743fcd90ed2f"
      },
      "execution_count": 21,
      "outputs": [
        {
          "output_type": "stream",
          "name": "stdout",
          "text": [
            "[1, 2]\n"
          ]
        }
      ]
    },
    {
      "cell_type": "code",
      "source": [
        "Array = [1,2,3]\n",
        "\n",
        "Array.append(4)\n",
        "\n",
        "print(Array)"
      ],
      "metadata": {
        "colab": {
          "base_uri": "https://localhost:8080/"
        },
        "id": "HaOe5lCkjITV",
        "outputId": "e0c2ffe9-a0f1-44b9-dbe1-586d2e8dbd33"
      },
      "execution_count": 20,
      "outputs": [
        {
          "output_type": "stream",
          "name": "stdout",
          "text": [
            "[1, 2, 3, 4]\n"
          ]
        }
      ]
    },
    {
      "cell_type": "code",
      "source": [
        "class Queue:                    \n",
        "  def __init__(self):\n",
        "    self.Queue = []             #stack implementation using OOP concept\n",
        "\n",
        "  def enqueue(self,dataval):\n",
        "    if dataval not in self.Queue:\n",
        "      return self.Queue.append(dataval)\n",
        "    else:\n",
        "      return False\n",
        "  def dequeue(self):\n",
        "    if len(self.Queue)<=0:\n",
        "      return (\"No element in the stack\")\n",
        "    else:\n",
        "      return self.Queue.pop(0)\n",
        "\n",
        "AQueue =Queue()\n",
        "AQueue.enqueue(\"A\")\n",
        "AQueue.enqueue(\"B\")\n",
        "AQueue.enqueue(\"C\")\n",
        "print(AQueue.Queue)\n",
        "AQueue.dequeue()\n",
        "\n",
        "\n",
        "print(AQueue.Queue)\n",
        "\n"
      ],
      "metadata": {
        "colab": {
          "base_uri": "https://localhost:8080/"
        },
        "id": "SixKG_iBm7lW",
        "outputId": "abfb9ec1-495b-402d-fed5-05a26429a92e"
      },
      "execution_count": 32,
      "outputs": [
        {
          "output_type": "stream",
          "name": "stdout",
          "text": [
            "['A', 'B', 'C']\n",
            "['B', 'C']\n"
          ]
        }
      ]
    }
  ],
  "metadata": {
    "colab": {
      "provenance": [],
      "authorship_tag": "ABX9TyOGRbbmJ24aklcP5nTIiXx0",
      "include_colab_link": true
    },
    "kernelspec": {
      "display_name": "Python 3",
      "name": "python3"
    },
    "language_info": {
      "name": "python"
    }
  },
  "nbformat": 4,
  "nbformat_minor": 0
}